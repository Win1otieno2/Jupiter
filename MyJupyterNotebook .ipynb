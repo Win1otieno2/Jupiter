{
 "cells": [
  {
   "cell_type": "markdown",
   "id": "13e1744c-4301-4eed-b07b-8f204f6c7ff4",
   "metadata": {
    "tags": []
   },
   "source": [
    "# My Jupyter Notebook on IBM Watson Studio"
   ]
  },
  {
   "cell_type": "markdown",
   "id": "e03d9e47-9937-4c94-bfc8-059fa65ac1d3",
   "metadata": {},
   "source": [
    "**Winstan Onyango Otieno**\n",
    "Data Science"
   ]
  },
  {
   "cell_type": "markdown",
   "id": "0141b941-5ea1-4e10-afbb-8b71e467c769",
   "metadata": {},
   "source": [
    "*I am interested in data science because I love handling data and getting insights* "
   ]
  },
  {
   "cell_type": "markdown",
   "id": "7d8aa906-1a18-44fa-ab76-3387c67909b1",
   "metadata": {},
   "source": [
    "### Below output 1 + 1\n"
   ]
  },
  {
   "cell_type": "code",
   "execution_count": null,
   "id": "7e78e2a8-4c5e-4ffa-bcf9-fc5290080fa0",
   "metadata": {},
   "outputs": [],
   "source": [
    "1 + 1"
   ]
  },
  {
   "cell_type": "markdown",
   "id": "c8bd20d0-52c6-4baf-9db9-ec32c467d72a",
   "metadata": {},
   "source": [
    "***\n",
    "<img src=“url/filename.gif” alt=“Alt text” title=“Title text” />\n",
    "- Main bullet point\n"
   ]
  }
 ],
 "metadata": {
  "kernelspec": {
   "display_name": "Python 3",
   "language": "python",
   "name": "python3"
  },
  "language_info": {
   "codemirror_mode": {
    "name": "ipython",
    "version": 3
   },
   "file_extension": ".py",
   "mimetype": "text/x-python",
   "name": "python",
   "nbconvert_exporter": "python",
   "pygments_lexer": "ipython3",
   "version": "3.8.8"
  }
 },
 "nbformat": 4,
 "nbformat_minor": 5
}
